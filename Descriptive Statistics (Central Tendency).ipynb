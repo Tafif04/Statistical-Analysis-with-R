{
 "cells": [
  {
   "cell_type": "markdown",
   "id": "3c85d936",
   "metadata": {},
   "source": [
    "<img src=\"https://media-exp1.licdn.com/dms/image/D5616AQHjeiUMSC8BAQ/profile-displaybackgroundimage-shrink_350_1400/0/1667108026239?e=1675296000&v=beta&t=jlQ0O03uHiDrL_sxdsQebQ8zIS_VuTm2btr2yrKL4rA\">\n",
    "\n",
    "# **STATISTICAL ANALYSIS: DESCRIPTIVE STATISTICS**\n",
    "<p> Created by: <a href = \"https://www.linkedin.com/in/tafiflukman/\">Ta'fif Lukman Afandi</a></p>"
   ]
  },
  {
   "cell_type": "markdown",
   "id": "1dc32f0f",
   "metadata": {},
   "source": [
    "## Dataset\n",
    "<p align=\"justify\">The dataset used is<a href = \"https://datahub.io/machine-learning/iris#resource-iris\"><dt>Iris Plants Database</dt></a></p>\n",
    "<p align=\"justify\">This is perhaps the best known database to be found in the pattern recognition literature. Fisher's paper is a classic in the field and is referenced frequently to this day. (See Duda & Hart, for example.) The data set contains 3 classes of 50 instances each, where each class refers to a type of iris plant. One class is linearly separable from the other 2; the latter are NOT linearly separable from each other.</p>\n",
    "<dl>\n",
    "    <dt>Attribute Information:</dt>\n",
    "    <dd>1. sepal length in cm</dd>\n",
    "    <dd>2. sepal width in cm</dd>\n",
    "    <dd>3. petal length in cm</dd>\n",
    "    <dd>4. petal width in cm</dd>\n",
    "    <dd>5. class:</dd>\n",
    "        <li>Iris Setosa</li>\n",
    "        <li>Iris Versicolour</li>\n",
    "        <li>Iris Virginica</li>\n",
    "</dl>"
   ]
  },
  {
   "cell_type": "raw",
   "id": "14b84d92",
   "metadata": {},
   "source": [
    "IMPORT DATASET"
   ]
  },
  {
   "cell_type": "code",
   "execution_count": 1,
   "id": "ae05aa7c",
   "metadata": {},
   "outputs": [
    {
     "name": "stdout",
     "output_type": "stream",
     "text": [
      "  sepallength sepalwidth petallength petalwidth       class\n",
      "1         5.1        3.5         1.4        0.2 Iris-setosa\n",
      "2         4.9        3.0         1.4        0.2 Iris-setosa\n",
      "3         4.7        3.2         1.3        0.2 Iris-setosa\n",
      "4         4.6        3.1         1.5        0.2 Iris-setosa\n",
      "5         5.0        3.6         1.4        0.2 Iris-setosa\n",
      "6         5.4        3.9         1.7        0.4 Iris-setosa\n"
     ]
    }
   ],
   "source": [
    "dt = read.csv(\"./dataset/iris_csv.csv\")\n",
    "print(head(dt))"
   ]
  },
  {
   "cell_type": "markdown",
   "id": "8f102e00",
   "metadata": {},
   "source": [
    "## Theoretical Basis\n",
    "<p align = \"justify\">\n",
    "        Descriptive statistics is statistics used to describe facts by calculating the size of parameters and statistical distribution functions based on empirical data. This section discusses three main discussions: </p>\n",
    "<ol>\n",
    "    <li align = \"justify\">Central Tendency</li>\n",
    "    <li align = \"justify\">Measurement of Spread</li> \n",
    "    <li align = \"justify\">Distribution</li>\n",
    "</ol>"
   ]
  },
  {
   "cell_type": "markdown",
   "id": "15fd67e6",
   "metadata": {},
   "source": [
    "### 1. Central Tendecy\n",
    "<p align = \"justify\">\n",
    "    Central Tendency is a measure of the middle value. These measurements include mean, median, and mode.\n",
    "</p>"
   ]
  },
  {
   "cell_type": "markdown",
   "id": "ca360b55",
   "metadata": {},
   "source": [
    "<dl>\n",
    "    <dt>A. Mean</dt>\n",
    "    <img src=\"https://www.pioneermathematics.com/formulasimages/arithemetic%20mean(1).gif\">\n",
    "    Source: <a href=\"https://www.pioneermathematics.com/arithmetic-mean-formula.html\">https://www.pioneermathematics.com/arithmetic-mean-formula.html</a>\n",
    "    <dd>Syntax for mean() function in R:</dd>\n",
    "    <dt>mean(x, na.rm = FALSE, …)</dt>\n",
    "    <dd>Information:</dd>\n",
    "    <li><strong>x</strong>: numeric vector</li>\n",
    "    <li><strong>rm</strong>: whether NA should be removed, if not, NA will be returned</li>\n",
    "</dl>"
   ]
  },
  {
   "cell_type": "raw",
   "id": "d6fa2df9",
   "metadata": {},
   "source": [
    "MEAN: SEPAL LENGTH (with NA)"
   ]
  },
  {
   "cell_type": "code",
   "execution_count": 6,
   "id": "fd4d17bc",
   "metadata": {},
   "outputs": [
    {
     "data": {
      "text/html": [
       "5.84333333333333"
      ],
      "text/latex": [
       "5.84333333333333"
      ],
      "text/markdown": [
       "5.84333333333333"
      ],
      "text/plain": [
       "[1] 5.843333"
      ]
     },
     "metadata": {},
     "output_type": "display_data"
    }
   ],
   "source": [
    "mean(dt$sepallength, na.rm=TRUE)"
   ]
  },
  {
   "cell_type": "raw",
   "id": "93f72458",
   "metadata": {},
   "source": [
    "MEAN: SEPAL LENGTH (without NA)"
   ]
  },
  {
   "cell_type": "code",
   "execution_count": 5,
   "id": "03e6a4e6",
   "metadata": {},
   "outputs": [
    {
     "data": {
      "text/html": [
       "5.84333333333333"
      ],
      "text/latex": [
       "5.84333333333333"
      ],
      "text/markdown": [
       "5.84333333333333"
      ],
      "text/plain": [
       "[1] 5.843333"
      ]
     },
     "metadata": {},
     "output_type": "display_data"
    }
   ],
   "source": [
    "mean(dt$sepallength)"
   ]
  },
  {
   "cell_type": "markdown",
   "id": "8bd89c8b",
   "metadata": {},
   "source": [
    "<dl>\n",
    "    <dt>B. Median</dt>\n",
    "    <img src=\"https://www.pioneermathematics.com/formulasimages/median(1).gif\">\n",
    "    Source: <a href=\"https://www.pioneermathematics.com/median-formula.html\">https://www.pioneermathematics.com/median-formula.html</a>\n",
    "    <dd>Syntax for median() function in R:</dd>\n",
    "    <dt>median(x, na.rm = FALSE, …)</dt>\n",
    "    <dd>Information:</dd>\n",
    "    <li><strong>x</strong>: numeric vector</li>\n",
    "    <li><strong>rm</strong>: whether NA should be removed, if not, NA will be returned</li>\n",
    "</dl>"
   ]
  },
  {
   "cell_type": "raw",
   "id": "6ce6daa8",
   "metadata": {},
   "source": [
    "MEDIAN: SEPAL LENGTH (with NA)"
   ]
  },
  {
   "cell_type": "code",
   "execution_count": 7,
   "id": "556702f7",
   "metadata": {},
   "outputs": [
    {
     "data": {
      "text/html": [
       "5.8"
      ],
      "text/latex": [
       "5.8"
      ],
      "text/markdown": [
       "5.8"
      ],
      "text/plain": [
       "[1] 5.8"
      ]
     },
     "metadata": {},
     "output_type": "display_data"
    }
   ],
   "source": [
    "median(dt$sepallength, na.rm = TRUE)"
   ]
  },
  {
   "cell_type": "raw",
   "id": "abfb758e",
   "metadata": {},
   "source": [
    "MEDIAN: SEPAL LENGTH (without NA)"
   ]
  },
  {
   "cell_type": "code",
   "execution_count": 8,
   "id": "c584af4a",
   "metadata": {},
   "outputs": [
    {
     "data": {
      "text/html": [
       "5.8"
      ],
      "text/latex": [
       "5.8"
      ],
      "text/markdown": [
       "5.8"
      ],
      "text/plain": [
       "[1] 5.8"
      ]
     },
     "metadata": {},
     "output_type": "display_data"
    }
   ],
   "source": [
    "median(dt$sepallength)"
   ]
  },
  {
   "cell_type": "markdown",
   "id": "5d36da77",
   "metadata": {},
   "source": [
    "<dl>\n",
    "    <dt>C. Mode</dt>\n",
    "    <dd>Mode is the value which occurs most frequently in a set of observations. It is point maximum frequency.</dd>\n",
    "    <dd>Syntax for mode() function in R:</dd>\n",
    "    <dt>mode = function(x){</dt>\n",
    "    <dt>&nbsp;&nbsp;&nbsp;&nbsp;uniqx = unique(x)</dt>\n",
    "    <dt>&nbsp;&nbsp;&nbsp;&nbsp;uniqx[which.max(tabulate(match(x, uniqx)))]</dt>\n",
    "    <dt>}</dt>\n",
    "    <dd>Information:</dd>\n",
    "    <li><strong>x</strong>: numeric vector</li>\n",
    "</dl>"
   ]
  },
  {
   "cell_type": "code",
   "execution_count": 9,
   "id": "012056ac",
   "metadata": {},
   "outputs": [],
   "source": [
    "mode = function(x){\n",
    "    uniqx = unique(x)\n",
    "    uniqx[which.max(tabulate(match(x, uniqx)))]\n",
    "}"
   ]
  },
  {
   "cell_type": "raw",
   "id": "f0c23fa8",
   "metadata": {},
   "source": [
    "MODE: SEPAL LENGTH"
   ]
  },
  {
   "cell_type": "code",
   "execution_count": 12,
   "id": "62df79de",
   "metadata": {},
   "outputs": [
    {
     "data": {
      "text/html": [
       "5"
      ],
      "text/latex": [
       "5"
      ],
      "text/markdown": [
       "5"
      ],
      "text/plain": [
       "[1] 5"
      ]
     },
     "metadata": {},
     "output_type": "display_data"
    }
   ],
   "source": [
    "mode(dt$sepallength)"
   ]
  }
 ],
 "metadata": {
  "kernelspec": {
   "display_name": "R",
   "language": "R",
   "name": "ir"
  },
  "language_info": {
   "codemirror_mode": "r",
   "file_extension": ".r",
   "mimetype": "text/x-r-source",
   "name": "R",
   "pygments_lexer": "r",
   "version": "4.2.2"
  }
 },
 "nbformat": 4,
 "nbformat_minor": 5
}
