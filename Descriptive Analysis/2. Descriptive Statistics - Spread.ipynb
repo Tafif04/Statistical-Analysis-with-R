{
 "cells": [
  {
   "cell_type": "markdown",
   "id": "3c85d936",
   "metadata": {},
   "source": [
    "# **STATISTICAL ANALYSIS: DESCRIPTIVE STATISTICS**\n",
    "<p> Created by: <a href = \"https://www.linkedin.com/in/tafiflukman/\">Ta'fif Lukman Afandi</a></p>\n",
    "<img src=\"https://tse2.mm.bing.net/th?id=OIP.GwaUnYMh15WEdFOxIN2FVQAAAA&pid=Api&P=0\">"
   ]
  },
  {
   "cell_type": "markdown",
   "id": "1dc32f0f",
   "metadata": {},
   "source": [
    "## Dataset\n",
    "<p align=\"justify\">The dataset used is <a href = \"https://datahub.io/machine-learning/iris#resource-iris\"><strong>Iris Plants Database</strong></a></p>\n",
    "<p align=\"justify\">This is perhaps the best known database to be found in the pattern recognition literature. Fisher's paper is a classic in the field and is referenced frequently to this day. (See Duda & Hart, for example.) The data set contains 3 classes of 50 instances each, where each class refers to a type of iris plant. One class is linearly separable from the other 2; the latter are NOT linearly separable from each other.</p>\n",
    "<dl>\n",
    "    <dt>Attribute Information:</dt>\n",
    "    <dd>1. sepal length in cm</dd>\n",
    "    <dd>2. sepal width in cm</dd>\n",
    "    <dd>3. petal length in cm</dd>\n",
    "    <dd>4. petal width in cm</dd>\n",
    "    <dd>5. class:</dd>\n",
    "        <li>Iris Setosa</li>\n",
    "        <li>Iris Versicolour</li>\n",
    "        <li>Iris Virginica</li>\n",
    "</dl>"
   ]
  },
  {
   "cell_type": "markdown",
   "id": "ac1ce40e",
   "metadata": {},
   "source": [
    "<strong>IMPORT DATASET</strong>"
   ]
  },
  {
   "cell_type": "code",
   "execution_count": 1,
   "id": "ae05aa7c",
   "metadata": {},
   "outputs": [
    {
     "name": "stdout",
     "output_type": "stream",
     "text": [
      "  sepallength sepalwidth petallength petalwidth       class\n",
      "1         5.1        3.5         1.4        0.2 Iris-setosa\n",
      "2         4.9        3.0         1.4        0.2 Iris-setosa\n",
      "3         4.7        3.2         1.3        0.2 Iris-setosa\n",
      "4         4.6        3.1         1.5        0.2 Iris-setosa\n",
      "5         5.0        3.6         1.4        0.2 Iris-setosa\n",
      "6         5.4        3.9         1.7        0.4 Iris-setosa\n"
     ]
    }
   ],
   "source": [
    "dt = read.csv(\"./dataset/iris_csv.csv\")\n",
    "print(head(dt))"
   ]
  },
  {
   "cell_type": "markdown",
   "id": "8f102e00",
   "metadata": {},
   "source": [
    "## Theoretical Basis\n",
    "<p align = \"justify\">\n",
    "        Descriptive statistics is statistics used to describe facts by calculating the size of parameters and statistical distribution functions based on empirical data. This section discusses three main discussions: </p>\n",
    "<ol>\n",
    "    <li align = \"justify\">Central Tendency</li>\n",
    "    <li align = \"justify\">Measurement of Spread</li> \n",
    "    <li align = \"justify\">Distribution</li>\n",
    "</ol>\n",
    "<img src=\"https://i.ibb.co/KWvrPkd/Screenshot-564.png\">"
   ]
  },
  {
   "cell_type": "markdown",
   "id": "15fd67e6",
   "metadata": {},
   "source": [
    "### 2. Measurement of Spread\n",
    "<p align = \"justify\">\n",
    "    <strong>\n",
    "        Spread\n",
    "    </strong> is the degree of scatter or variation of the variable about the central value. Examples of these measures includes: <strong>\n",
    "    the range, Inter-Quartile range, Variance and standard deviation.</strong>\n",
    "</p>"
   ]
  },
  {
   "cell_type": "markdown",
   "id": "ca360b55",
   "metadata": {},
   "source": [
    "<strong>\n",
    "    A. Range\n",
    "</strong>\n",
    "<img src=\"https://i.ibb.co/84bQvYY/Range-Formula.png\">\n",
    "<p>Source:\n",
    "    <a href=\"https://www.piqosity.com/2022/08/12/isee-math-review-mean-median-mode-range-weighted-average/\">https://www.piqosity.com/2022/08/12/isee-math-review-mean-median-mode-range-weighted-average\n",
    "    </a>\n",
    "</p>\n",
    "<p>\n",
    "    Syntax for range() function in R:\n",
    "</p>\n",
    "<p>\n",
    "    <strong>\n",
    "        range(x, na.rm = FALSE, …)\n",
    "    </strong>\n",
    "</p>\n",
    "<p>\n",
    "    Information:\n",
    "</p>\n",
    "<li>\n",
    "    <strong>\n",
    "        x:\n",
    "    </strong>\n",
    "    numeric vector\n",
    "</li>\n",
    "<li>\n",
    "    <strong>\n",
    "        rm:\n",
    "    </strong>\n",
    "    whether NA should be removed, if not, NA will be returned\n",
    "</li>"
   ]
  },
  {
   "cell_type": "markdown",
   "id": "bc481bba",
   "metadata": {},
   "source": [
    "<strong>RANGE: SEPAL LENGTH (with NA)</strong>"
   ]
  },
  {
   "cell_type": "code",
   "execution_count": 2,
   "id": "fd4d17bc",
   "metadata": {},
   "outputs": [
    {
     "data": {
      "text/html": [
       "<style>\n",
       ".list-inline {list-style: none; margin:0; padding: 0}\n",
       ".list-inline>li {display: inline-block}\n",
       ".list-inline>li:not(:last-child)::after {content: \"\\00b7\"; padding: 0 .5ex}\n",
       "</style>\n",
       "<ol class=list-inline><li>4.3</li><li>7.9</li></ol>\n"
      ],
      "text/latex": [
       "\\begin{enumerate*}\n",
       "\\item 4.3\n",
       "\\item 7.9\n",
       "\\end{enumerate*}\n"
      ],
      "text/markdown": [
       "1. 4.3\n",
       "2. 7.9\n",
       "\n",
       "\n"
      ],
      "text/plain": [
       "[1] 4.3 7.9"
      ]
     },
     "metadata": {},
     "output_type": "display_data"
    }
   ],
   "source": [
    "range(dt$sepallength, na.rm=TRUE)"
   ]
  },
  {
   "cell_type": "code",
   "execution_count": 3,
   "id": "4463cc7c",
   "metadata": {},
   "outputs": [
    {
     "data": {
      "text/html": [
       "3.6"
      ],
      "text/latex": [
       "3.6"
      ],
      "text/markdown": [
       "3.6"
      ],
      "text/plain": [
       "[1] 3.6"
      ]
     },
     "metadata": {},
     "output_type": "display_data"
    }
   ],
   "source": [
    "#Option 1 using function range in R\n",
    "RANGE = range(dt$sepallength, na.rm=TRUE)[2]-range(dt$sepallength, na.rm=TRUE)[1]\n",
    "RANGE"
   ]
  },
  {
   "cell_type": "code",
   "execution_count": 4,
   "id": "14bb5305",
   "metadata": {},
   "outputs": [
    {
     "data": {
      "text/html": [
       "3.6"
      ],
      "text/latex": [
       "3.6"
      ],
      "text/markdown": [
       "3.6"
      ],
      "text/plain": [
       "[1] 3.6"
      ]
     },
     "metadata": {},
     "output_type": "display_data"
    }
   ],
   "source": [
    "#Option 2 using manual\n",
    "RANGE2 = max(dt$sepallength) - min(dt$sepallength)\n",
    "RANGE2"
   ]
  },
  {
   "cell_type": "markdown",
   "id": "8f1de4ef",
   "metadata": {},
   "source": [
    "<strong>RANGE: SEPAL LENGTH (without NA)</strong>"
   ]
  },
  {
   "cell_type": "code",
   "execution_count": 5,
   "id": "6c9eb3ef",
   "metadata": {},
   "outputs": [
    {
     "data": {
      "text/html": [
       "<style>\n",
       ".list-inline {list-style: none; margin:0; padding: 0}\n",
       ".list-inline>li {display: inline-block}\n",
       ".list-inline>li:not(:last-child)::after {content: \"\\00b7\"; padding: 0 .5ex}\n",
       "</style>\n",
       "<ol class=list-inline><li>4.3</li><li>7.9</li></ol>\n"
      ],
      "text/latex": [
       "\\begin{enumerate*}\n",
       "\\item 4.3\n",
       "\\item 7.9\n",
       "\\end{enumerate*}\n"
      ],
      "text/markdown": [
       "1. 4.3\n",
       "2. 7.9\n",
       "\n",
       "\n"
      ],
      "text/plain": [
       "[1] 4.3 7.9"
      ]
     },
     "metadata": {},
     "output_type": "display_data"
    }
   ],
   "source": [
    "range(dt$sepallength)"
   ]
  },
  {
   "cell_type": "code",
   "execution_count": 6,
   "id": "323fb226",
   "metadata": {},
   "outputs": [
    {
     "data": {
      "text/html": [
       "3.6"
      ],
      "text/latex": [
       "3.6"
      ],
      "text/markdown": [
       "3.6"
      ],
      "text/plain": [
       "[1] 3.6"
      ]
     },
     "metadata": {},
     "output_type": "display_data"
    }
   ],
   "source": [
    "RANGE2 = range(dt$sepallength)[2]-range(dt$sepallength)[1]\n",
    "RANGE2"
   ]
  },
  {
   "cell_type": "markdown",
   "id": "c67e4eb6",
   "metadata": {},
   "source": [
    "<strong>\n",
    "    B. Interquartile Range (IQR)\n",
    "</strong>\n",
    "<p>\n",
    "    Quartiles split a dataset into four quarters when the values are written in ascending order.\n",
    "<img src=\"https://i.ibb.co/51RP20w/IQR.png\">\n",
    "<p>Source:\n",
    "    <a href=\"https://byjus.com/interquartile-range-formula/\">https://byjus.com/interquartile-range-formula\n",
    "    </a>\n",
    "</p>\n",
    "<p>\n",
    "    Syntax for IQR() function in R:\n",
    "</p>\n",
    "<p>\n",
    "    <strong>\n",
    "        IQR(x, na.rm = FALSE, ...)\n",
    "    </strong>\n",
    "</p>\n",
    "<p>\n",
    "    Information:\n",
    "</p>\n",
    "<li>\n",
    "    <strong>\n",
    "        x:\n",
    "    </strong>\n",
    "    numeric vector\n",
    "</li>\n",
    "<li>\n",
    "    <strong>\n",
    "        rm:\n",
    "    </strong>\n",
    "    whether NA should be removed, if not, NA will be returned\n",
    "</li>"
   ]
  },
  {
   "cell_type": "markdown",
   "id": "7aa66e5a",
   "metadata": {},
   "source": [
    "<strong>IQR: SEPAL LENGTH (with NA)</strong>"
   ]
  },
  {
   "cell_type": "code",
   "execution_count": 7,
   "id": "556702f7",
   "metadata": {},
   "outputs": [
    {
     "data": {
      "text/html": [
       "1.3"
      ],
      "text/latex": [
       "1.3"
      ],
      "text/markdown": [
       "1.3"
      ],
      "text/plain": [
       "[1] 1.3"
      ]
     },
     "metadata": {},
     "output_type": "display_data"
    }
   ],
   "source": [
    "#Option 1 using function IQR in R\n",
    "IQR(dt$sepallength, na.rm = TRUE)"
   ]
  },
  {
   "cell_type": "code",
   "execution_count": 8,
   "id": "b4d88cba",
   "metadata": {},
   "outputs": [],
   "source": [
    "#Option 2\n",
    "IQR2 = function(data){\n",
    "    Q3 = quantile(data, probs = .75)\n",
    "    Q1 = quantile(data, probs = .25)\n",
    "    cat('----------INTERQUARTILE RANGE----------\\n')\n",
    "    cat('Q1  =',Q1,'\\n')\n",
    "    cat('Q3  =',Q3,'\\n')\n",
    "    cat('---------------------------------------\\n')\n",
    "    cat('IQR =',Q3-Q1,'\\n')\n",
    "    cat('---------------------------------------')\n",
    "}"
   ]
  },
  {
   "cell_type": "code",
   "execution_count": 9,
   "id": "23e484e7",
   "metadata": {},
   "outputs": [
    {
     "name": "stdout",
     "output_type": "stream",
     "text": [
      "----------INTERQUARTILE RANGE----------\n",
      "Q1  = 5.1 \n",
      "Q3  = 6.4 \n",
      "---------------------------------------\n",
      "IQR = 1.3 \n",
      "---------------------------------------"
     ]
    }
   ],
   "source": [
    "IQR2(dt$sepallength)"
   ]
  },
  {
   "cell_type": "markdown",
   "id": "f4c43f11",
   "metadata": {},
   "source": [
    "<strong>IQR: SEPAL LENGTH (without NA)</strong>"
   ]
  },
  {
   "cell_type": "code",
   "execution_count": 10,
   "id": "c584af4a",
   "metadata": {},
   "outputs": [
    {
     "data": {
      "text/html": [
       "1.3"
      ],
      "text/latex": [
       "1.3"
      ],
      "text/markdown": [
       "1.3"
      ],
      "text/plain": [
       "[1] 1.3"
      ]
     },
     "metadata": {},
     "output_type": "display_data"
    }
   ],
   "source": [
    "IQR(dt$sepallength)"
   ]
  },
  {
   "cell_type": "markdown",
   "id": "80deafcc",
   "metadata": {},
   "source": [
    "<strong>\n",
    "    C. Variance and Standard Deviation\n",
    "</strong>\n",
    "<p>\n",
    "    <strong>\n",
    "        The variance\n",
    "    </strong> \n",
    "    is such a value. We often use the related measure, its <strong>\n",
    "    square-root\n",
    "    </strong>, called the \n",
    "    <strong>\n",
    "        standard deviation\n",
    "    </strong>. <strong>The formula for variance and standard deviation is given bellow</strong>\n",
    "</p>\n",
    "<img src=\"https://standarddeviationformula.com/wp-content/uploads/2019/12/variance-and-standard-deviation-formula.png\">\n",
    "<p>\n",
    "    Syntax for var() function in R:\n",
    "</p>\n",
    "<p>\n",
    "    <strong>\n",
    "        var(x, na.rm = FALSE)\n",
    "    </strong>\n",
    "</p>\n",
    "<p>\n",
    "    Syntax for sd() function in R:\n",
    "</p>\n",
    "<p>\n",
    "    <strong>\n",
    "        sd(x, na.rm = FALSE)\n",
    "    </strong>\n",
    "</p>\n",
    "<p>\n",
    "    Information:\n",
    "</p>\n",
    "<li>\n",
    "    <strong>\n",
    "        x:\n",
    "    </strong>\n",
    "    numeric vector\n",
    "</li>"
   ]
  },
  {
   "cell_type": "markdown",
   "id": "28cd2a1c",
   "metadata": {},
   "source": [
    "<strong>VARIANCE AND STANDARD DEVIATION: SEPAL LENGTH</strong>"
   ]
  },
  {
   "cell_type": "code",
   "execution_count": 11,
   "id": "62df79de",
   "metadata": {},
   "outputs": [
    {
     "data": {
      "text/html": [
       "0.685693512304251"
      ],
      "text/latex": [
       "0.685693512304251"
      ],
      "text/markdown": [
       "0.685693512304251"
      ],
      "text/plain": [
       "[1] 0.6856935"
      ]
     },
     "metadata": {},
     "output_type": "display_data"
    }
   ],
   "source": [
    "var(dt$sepallength)"
   ]
  },
  {
   "cell_type": "code",
   "execution_count": 12,
   "id": "8d2e204e",
   "metadata": {},
   "outputs": [
    {
     "data": {
      "text/html": [
       "0.828066127977863"
      ],
      "text/latex": [
       "0.828066127977863"
      ],
      "text/markdown": [
       "0.828066127977863"
      ],
      "text/plain": [
       "[1] 0.8280661"
      ]
     },
     "metadata": {},
     "output_type": "display_data"
    }
   ],
   "source": [
    "#Option 1 using function sd in R\n",
    "sd(dt$sepallength)"
   ]
  },
  {
   "cell_type": "code",
   "execution_count": 13,
   "id": "518b353d",
   "metadata": {},
   "outputs": [
    {
     "data": {
      "text/html": [
       "0.828066127977863"
      ],
      "text/latex": [
       "0.828066127977863"
      ],
      "text/markdown": [
       "0.828066127977863"
      ],
      "text/plain": [
       "[1] 0.8280661"
      ]
     },
     "metadata": {},
     "output_type": "display_data"
    }
   ],
   "source": [
    "#Option 2 using manual\n",
    "sqrt(var(dt$sepallength))"
   ]
  },
  {
   "cell_type": "markdown",
   "id": "87a386e5",
   "metadata": {},
   "source": [
    "<strong>SPREAD</strong>"
   ]
  },
  {
   "cell_type": "code",
   "execution_count": 14,
   "id": "130aa7c4",
   "metadata": {},
   "outputs": [],
   "source": [
    "spread = function(x){\n",
    "    kolom = ncol(x)\n",
    "    Range = NULL\n",
    "    IQR = NULL\n",
    "    Var = NULL\n",
    "    Std = NULL\n",
    "    for(i in 1:kolom){\n",
    "        Range[i] = round((range(x[,i])[2]-range(x[,i])[1]),3)\n",
    "        IQR[i] = round(IQR(x[,i]),3)\n",
    "        Var[i] = round(var(x[,i]),3)\n",
    "        Std[i] = round(sd(x[,i]),3)\n",
    "    }\n",
    "    baris = cbind(Range, IQR, Var, Std)\n",
    "    colnames(baris) = c(\"RANGE\", \"IQR\", \"VARIANCE\", \"STD. DEVIATION\")\n",
    "    rownames(baris) = names(x)\n",
    "    print(baris)\n",
    "}"
   ]
  },
  {
   "cell_type": "code",
   "execution_count": 15,
   "id": "e71eb0b5",
   "metadata": {},
   "outputs": [
    {
     "name": "stdout",
     "output_type": "stream",
     "text": [
      "            RANGE IQR VARIANCE STD. DEVIATION\n",
      "sepallength   3.6 1.3    0.686          0.828\n",
      "sepalwidth    2.4 0.5    0.188          0.434\n",
      "petallength   5.9 3.5    3.113          1.764\n",
      "petalwidth    2.4 1.5    0.582          0.763\n"
     ]
    }
   ],
   "source": [
    "spread(dt[,c(1:4)])"
   ]
  }
 ],
 "metadata": {
  "kernelspec": {
   "display_name": "R",
   "language": "R",
   "name": "ir"
  },
  "language_info": {
   "codemirror_mode": "r",
   "file_extension": ".r",
   "mimetype": "text/x-r-source",
   "name": "R",
   "pygments_lexer": "r",
   "version": "4.2.2"
  }
 },
 "nbformat": 4,
 "nbformat_minor": 5
}
