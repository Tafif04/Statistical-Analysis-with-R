{
 "cells": [
  {
   "cell_type": "markdown",
   "id": "3c85d936",
   "metadata": {},
   "source": [
    "# **STATISTICAL ANALYSIS: DESCRIPTIVE STATISTICS**\n",
    "<p> Created by: <a href = \"https://www.linkedin.com/in/tafiflukman/\">Ta'fif Lukman Afandi</a></p>\n",
    "<img src=\"https://aegis4048.github.io/jupyter_images/test_score_dist.png\">"
   ]
  },
  {
   "cell_type": "markdown",
   "id": "1dc32f0f",
   "metadata": {},
   "source": [
    "## Dataset\n",
    "<p align=\"justify\">The dataset used is <a href = \"https://datahub.io/machine-learning/iris#resource-iris\"><strong>Iris Plants Database</strong></a></p>\n",
    "<p align=\"justify\">This is perhaps the best known database to be found in the pattern recognition literature. Fisher's paper is a classic in the field and is referenced frequently to this day. (See Duda & Hart, for example.) The data set contains 3 classes of 50 instances each, where each class refers to a type of iris plant. One class is linearly separable from the other 2; the latter are NOT linearly separable from each other.</p>\n",
    "<dl>\n",
    "    <dt>Attribute Information:</dt>\n",
    "    <dd>1. sepal length in cm</dd>\n",
    "    <dd>2. sepal width in cm</dd>\n",
    "    <dd>3. petal length in cm</dd>\n",
    "    <dd>4. petal width in cm</dd>\n",
    "    <dd>5. class:</dd>\n",
    "        <li>Iris Setosa</li>\n",
    "        <li>Iris Versicolour</li>\n",
    "        <li>Iris Virginica</li>\n",
    "</dl>"
   ]
  },
  {
   "cell_type": "markdown",
   "id": "ac1ce40e",
   "metadata": {},
   "source": [
    "<strong>IMPORT DATASET</strong>"
   ]
  },
  {
   "cell_type": "code",
   "execution_count": 1,
   "id": "ae05aa7c",
   "metadata": {},
   "outputs": [
    {
     "name": "stdout",
     "output_type": "stream",
     "text": [
      "  sepallength sepalwidth petallength petalwidth       class\n",
      "1         5.1        3.5         1.4        0.2 Iris-setosa\n",
      "2         4.9        3.0         1.4        0.2 Iris-setosa\n",
      "3         4.7        3.2         1.3        0.2 Iris-setosa\n",
      "4         4.6        3.1         1.5        0.2 Iris-setosa\n",
      "5         5.0        3.6         1.4        0.2 Iris-setosa\n",
      "6         5.4        3.9         1.7        0.4 Iris-setosa\n"
     ]
    }
   ],
   "source": [
    "dt = read.csv(\"./dataset/iris_csv.csv\")\n",
    "print(head(dt))"
   ]
  },
  {
   "cell_type": "markdown",
   "id": "8f102e00",
   "metadata": {},
   "source": [
    "## Theoretical Basis\n",
    "<p align = \"justify\">\n",
    "        Descriptive statistics is statistics used to describe facts by calculating the size of parameters and statistical distribution functions based on empirical data. This section discusses three main discussions: </p>\n",
    "<ol>\n",
    "    <li align = \"justify\">Central Tendency</li>\n",
    "    <li align = \"justify\">Measurement of Spread</li> \n",
    "    <li align = \"justify\">Distribution</li>\n",
    "</ol>\n",
    "<img src=\"https://i.ibb.co/KWvrPkd/Screenshot-564.png\">"
   ]
  },
  {
   "cell_type": "markdown",
   "id": "15fd67e6",
   "metadata": {},
   "source": [
    "### 3. Distribution\n",
    "<p align = \"justify\">\n",
    "    <strong>The distribution of a data set</strong> is a function that shows all possible intervals of values of the data and how often the data appears. There are two measurements to determine the distribution of a data set: <strong>Skewness and Kurtosis</strong>. Skewness and kurtosis are the two important characteristics of distribution that are studied in descriptive statistics.\n",
    "</p>"
   ]
  },
  {
   "cell_type": "markdown",
   "id": "ca360b55",
   "metadata": {},
   "source": [
    "<strong>\n",
    "    A. Skewness\n",
    "</strong>\n",
    "<p align=\"justify\">\n",
    "    <strong>Skewness</strong> is a statistical number that tells us if a distribution is symmetric or not.  A distribution is symmetric if the right side of the distribution is similar to the left side of the distribution.\n",
    "    <li>If Skewness is greater than 0, then it is called <strong>right-skewed (Positive)</strong> or that the right tail is longer than the left tail.</li>\n",
    "    <li>If a distribution is <strong>Symmetric (normal distribution):</strong> median= mean= mode, (Skewness value is 0)</li>\n",
    "    <li>If Skewness is less than 0, then it is called <strong>left-skewed (Negative)</strong> or that the left tail is longer than the right tail.</li>\n",
    "</p>\n",
    "<img src=\"https://upload.wikimedia.org/wikipedia/commons/thumb/c/cc/Relationship_between_mean_and_median_under_different_skewness.png/434px-Relationship_between_mean_and_median_under_different_skewness.png\">\n",
    "<p>\n",
    "    <strong>The skewness can be calculated from the following formula:</strong>\n",
    "</p>\n",
    "<img src=\"https://miro.medium.com/max/1400/1*Sp3J-uwFrOGCGbP5NjIm8Q.webp\">\n",
    "<p>\n",
    "    Syntax for skewness() functions from the <strong>moments</strong> library in R:\n",
    "</p>\n",
    "<p>\n",
    "    <strong>\n",
    "        skewness(x, na.rm = FALSE)\n",
    "    </strong>\n",
    "</p>\n",
    "<p>\n",
    "    Information:\n",
    "</p>\n",
    "<li>\n",
    "    <strong>\n",
    "        x:\n",
    "    </strong>\n",
    "    numeric vector\n",
    "</li>\n",
    "<li>\n",
    "    <strong>\n",
    "        rm:\n",
    "    </strong>\n",
    "    whether NA should be removed, if not, NA will be returned\n",
    "</li>"
   ]
  },
  {
   "cell_type": "markdown",
   "id": "117fe572",
   "metadata": {},
   "source": [
    "<strong>LIBRARY MOMENTS</strong>"
   ]
  },
  {
   "cell_type": "code",
   "execution_count": 2,
   "id": "6ff4a18d",
   "metadata": {},
   "outputs": [],
   "source": [
    "library(moments)"
   ]
  },
  {
   "cell_type": "markdown",
   "id": "bc481bba",
   "metadata": {},
   "source": [
    "<strong>SKEWNESS: SEPAL LENGTH </strong>"
   ]
  },
  {
   "cell_type": "code",
   "execution_count": 3,
   "id": "4463cc7c",
   "metadata": {
    "scrolled": true
   },
   "outputs": [
    {
     "data": {
      "text/html": [
       "0.312"
      ],
      "text/latex": [
       "0.312"
      ],
      "text/markdown": [
       "0.312"
      ],
      "text/plain": [
       "[1] 0.312"
      ]
     },
     "metadata": {},
     "output_type": "display_data"
    }
   ],
   "source": [
    "#Option 1 using function skewness in R\n",
    "round(skewness(dt$sepallength),3)"
   ]
  },
  {
   "cell_type": "code",
   "execution_count": 4,
   "id": "14bb5305",
   "metadata": {},
   "outputs": [],
   "source": [
    "#Option 2 using manual\n",
    "SKEWNESS = function(x){\n",
    "    N = length(x)\n",
    "    up = NULL\n",
    "    for(i in 1:N){\n",
    "        up[i] = (x[i]-mean(x))^3\n",
    "    }\n",
    "    hasil = sum(up)/((N-1)*(sd(x)^3))\n",
    "    hasil = round(hasil,3)\n",
    "    return(hasil)\n",
    "}"
   ]
  },
  {
   "cell_type": "code",
   "execution_count": 5,
   "id": "3616fde3",
   "metadata": {},
   "outputs": [
    {
     "data": {
      "text/html": [
       "0.311"
      ],
      "text/latex": [
       "0.311"
      ],
      "text/markdown": [
       "0.311"
      ],
      "text/plain": [
       "[1] 0.311"
      ]
     },
     "metadata": {},
     "output_type": "display_data"
    }
   ],
   "source": [
    "SKEWNESS(dt$sepallength)"
   ]
  },
  {
   "cell_type": "markdown",
   "id": "8f1de4ef",
   "metadata": {},
   "source": [
    "<strong>SKEWNESS: SEPAL WIDTH</strong>"
   ]
  },
  {
   "cell_type": "code",
   "execution_count": 6,
   "id": "6c9eb3ef",
   "metadata": {},
   "outputs": [
    {
     "data": {
      "text/html": [
       "0.331"
      ],
      "text/latex": [
       "0.331"
      ],
      "text/markdown": [
       "0.331"
      ],
      "text/plain": [
       "[1] 0.331"
      ]
     },
     "metadata": {},
     "output_type": "display_data"
    }
   ],
   "source": [
    "round(skewness(dt$sepalwidth),3)"
   ]
  },
  {
   "cell_type": "code",
   "execution_count": 7,
   "id": "323fb226",
   "metadata": {},
   "outputs": [
    {
     "data": {
      "text/html": [
       "0.33"
      ],
      "text/latex": [
       "0.33"
      ],
      "text/markdown": [
       "0.33"
      ],
      "text/plain": [
       "[1] 0.33"
      ]
     },
     "metadata": {},
     "output_type": "display_data"
    }
   ],
   "source": [
    "SKEWNESS(dt$sepalwidth)"
   ]
  },
  {
   "cell_type": "markdown",
   "id": "c67e4eb6",
   "metadata": {},
   "source": [
    "<strong>\n",
    "    B. Kurtosis\n",
    "</strong>\n",
    "<p>\n",
    "    <strong>\n",
    "        Kurtosis\n",
    "    </strong> is a statistical number that tells us if a distribution is taller or shorter than a normal distribution.\n",
    "    <li>Mesokurtic distribution – Distributions with zero excess kurtosis are called mesokurtic. The standard normal distribution has a kurtosis of three, which indicates data that follow a Gaussian distribution have neither fat or thin tails.</li>\n",
    "    <li>Leptokurtic distribution – Lepto means skinny. Here kurtosis is less than three, it has extremely thick tails and a very thin and tall peak.</li>\n",
    "    <li>Platykurtic distribution – Platy means broad. Here kurtosis is more than three, it has extremely thin tails and a very broad and short peak.</li>\n",
    "</p>\n",
    "<img src =\"https://unofficed.com/wp-content/uploads/2018/04/Kurtosis.jpg\">\n",
    "<p>\n",
    "    <strong>The kurtosis can be calculated from the following formula:</strong>\n",
    "</p>\n",
    "<img src=\"http://allthingsstatistics.com/wp-content/uploads/2021/07/Kurtosis-1.png\">\n",
    "<p>\n",
    "    Syntax kurtosis() functions from the <strong>moments</strong> library in R:\n",
    "</p>\n",
    "<p>\n",
    "    <strong>\n",
    "        kurtosis(x, na.rm = FALSE)\n",
    "    </strong>\n",
    "</p>\n",
    "<p>\n",
    "    Information:\n",
    "</p>\n",
    "<li>\n",
    "    <strong>\n",
    "        x:\n",
    "    </strong>\n",
    "    numeric vector\n",
    "</li>\n",
    "<li>\n",
    "    <strong>\n",
    "        rm:\n",
    "    </strong>\n",
    "    whether NA should be removed, if not, NA will be returned\n",
    "</li>"
   ]
  },
  {
   "cell_type": "markdown",
   "id": "7aa66e5a",
   "metadata": {},
   "source": [
    "<strong>KURTOSIS: SEPAL LENGTH</strong>"
   ]
  },
  {
   "cell_type": "code",
   "execution_count": 8,
   "id": "556702f7",
   "metadata": {},
   "outputs": [
    {
     "data": {
      "text/html": [
       "2.426"
      ],
      "text/latex": [
       "2.426"
      ],
      "text/markdown": [
       "2.426"
      ],
      "text/plain": [
       "[1] 2.426"
      ]
     },
     "metadata": {},
     "output_type": "display_data"
    }
   ],
   "source": [
    "#Option 1 using function kurtosis in R\n",
    "round(kurtosis(dt$sepallength),3)"
   ]
  },
  {
   "cell_type": "code",
   "execution_count": 9,
   "id": "b4d88cba",
   "metadata": {},
   "outputs": [],
   "source": [
    "#Option 2\n",
    "KURTOSIS = function(x){\n",
    "    N = length(x)\n",
    "    up = NULL\n",
    "    for(i in 1:N){\n",
    "        up[i] = (x[i]-mean(x))^4\n",
    "    }\n",
    "    hasil = sum(up)/((N)*(sd(x)^4))\n",
    "    hasil = round(hasil,3)\n",
    "    return(hasil)\n",
    "}"
   ]
  },
  {
   "cell_type": "code",
   "execution_count": 10,
   "id": "23e484e7",
   "metadata": {},
   "outputs": [
    {
     "data": {
      "text/html": [
       "2.394"
      ],
      "text/latex": [
       "2.394"
      ],
      "text/markdown": [
       "2.394"
      ],
      "text/plain": [
       "[1] 2.394"
      ]
     },
     "metadata": {},
     "output_type": "display_data"
    }
   ],
   "source": [
    "KURTOSIS(dt$sepallength)"
   ]
  }
 ],
 "metadata": {
  "kernelspec": {
   "display_name": "R",
   "language": "R",
   "name": "ir"
  },
  "language_info": {
   "codemirror_mode": "r",
   "file_extension": ".r",
   "mimetype": "text/x-r-source",
   "name": "R",
   "pygments_lexer": "r",
   "version": "4.2.2"
  }
 },
 "nbformat": 4,
 "nbformat_minor": 5
}
